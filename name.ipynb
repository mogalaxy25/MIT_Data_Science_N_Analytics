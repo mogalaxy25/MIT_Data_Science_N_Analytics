{
  "nbformat": 4,
  "nbformat_minor": 0,
  "metadata": {
    "colab": {
      "provenance": [],
      "authorship_tag": "ABX9TyOEKArFaRRwq9K6mAQ4JPsW",
      "include_colab_link": true
    },
    "kernelspec": {
      "name": "python3",
      "display_name": "Python 3"
    },
    "language_info": {
      "name": "python"
    }
  },
  "cells": [
    {
      "cell_type": "markdown",
      "metadata": {
        "id": "view-in-github",
        "colab_type": "text"
      },
      "source": [
        "<a href=\"https://colab.research.google.com/github/mogalaxy25/mogalaxy25/blob/main/name.ipynb\" target=\"_parent\"><img src=\"https://colab.research.google.com/assets/colab-badge.svg\" alt=\"Open In Colab\"/></a>"
      ]
    },
    {
      "cell_type": "markdown",
      "source": [
        "# sys.argv"
      ],
      "metadata": {
        "id": "YD72pr5xdGS-"
      }
    },
    {
      "cell_type": "code",
      "source": [
        "import sys\n",
        "\n",
        "if len(sys.argv) < 2:\n",
        "    print(\"Too few arguments\")\n",
        "elif len(sys.argv) > 2:\n",
        "    print(\"Too many arguments\")\n",
        "else:\n",
        "    print(\"Hello, my name is\", sys.argv[1])"
      ],
      "metadata": {
        "colab": {
          "base_uri": "https://localhost:8080/"
        },
        "id": "ev4iEcXGdLAf",
        "outputId": "732bbf0c-2513-46ee-ca85-9c36aaf60e04"
      },
      "execution_count": null,
      "outputs": [
        {
          "output_type": "stream",
          "name": "stdout",
          "text": [
            "Too many arguments\n"
          ]
        }
      ]
    },
    {
      "cell_type": "code",
      "source": [
        "import sys\n",
        "\n",
        "if len(sys.argv) < 2:\n",
        "    sys.exit(\"Too few arguments\")\n",
        "elif len(sys.argv) > 2:\n",
        "    sys.exit(\"Too many arguments\")\n",
        "    print(\"Hello, my name is Moe\", sys.argv[1])"
      ],
      "metadata": {
        "colab": {
          "base_uri": "https://localhost:8080/",
          "height": 158
        },
        "id": "TcV94dq2k3tn",
        "outputId": "c07b65ee-37e3-44dd-bcb4-1304fd08ff89"
      },
      "execution_count": null,
      "outputs": [
        {
          "output_type": "error",
          "ename": "SystemExit",
          "evalue": "ignored",
          "traceback": [
            "An exception has occurred, use %tb to see the full traceback.\n",
            "\u001b[0;31mSystemExit\u001b[0m\u001b[0;31m:\u001b[0m Too many arguments\n"
          ]
        },
        {
          "output_type": "stream",
          "name": "stderr",
          "text": [
            "/usr/local/lib/python3.10/dist-packages/IPython/core/interactiveshell.py:3561: UserWarning: To exit: use 'exit', 'quit', or Ctrl-D.\n",
            "  warn(\"To exit: use 'exit', 'quit', or Ctrl-D.\", stacklevel=1)\n"
          ]
        }
      ]
    },
    {
      "cell_type": "code",
      "source": [
        "import sys\n",
        "\n",
        "if len(sys.argv) < 2:\n",
        "    sys.exit(\"Too few arguments\")\n",
        "for arg in sys.argv[1:]:\n",
        "    print(\"Hello, my name is \", arg)"
      ],
      "metadata": {
        "colab": {
          "base_uri": "https://localhost:8080/"
        },
        "id": "6kOcsUTOrH8x",
        "outputId": "9ae1bfa2-85f2-4dce-8734-093a98580f11"
      },
      "execution_count": 1,
      "outputs": [
        {
          "output_type": "stream",
          "name": "stdout",
          "text": [
            "Hello, my name is  -f\n",
            "Hello, my name is  /root/.local/share/jupyter/runtime/kernel-f6833eb0-6039-4203-b5fd-776bbb147ef9.json\n"
          ]
        }
      ]
    },
    {
      "cell_type": "code",
      "source": [
        "import sys\n",
        "\n",
        "if len(sys.argv) < 2:\n",
        "    print(\"Too few arguments\")\n",
        "elif len(sys.argv) > 2:\n",
        "    print(\"Too many arguments\")\n",
        "else:\n",
        "    print(\"Hello, my name is Moe\", sys.argv[1])"
      ],
      "metadata": {
        "id": "g3bLfbdamHji",
        "colab": {
          "base_uri": "https://localhost:8080/"
        },
        "outputId": "8d8cd882-3e6d-49da-8f1d-a244d6452fc1"
      },
      "execution_count": 2,
      "outputs": [
        {
          "output_type": "stream",
          "name": "stdout",
          "text": [
            "Too many arguments\n"
          ]
        }
      ]
    }
  ]
}