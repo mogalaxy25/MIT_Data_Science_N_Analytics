{
  "nbformat": 4,
  "nbformat_minor": 0,
  "metadata": {
    "colab": {
      "provenance": [],
      "authorship_tag": "ABX9TyNuCAr/GtNOz5Qb0npAfVaW",
      "include_colab_link": true
    },
    "kernelspec": {
      "name": "python3",
      "display_name": "Python 3"
    },
    "language_info": {
      "name": "python"
    }
  },
  "cells": [
    {
      "cell_type": "markdown",
      "metadata": {
        "id": "view-in-github",
        "colab_type": "text"
      },
      "source": [
        "<a href=\"https://colab.research.google.com/github/mogalaxy25/mogalaxy25/blob/main/grade.ipynb\" target=\"_parent\"><img src=\"https://colab.research.google.com/assets/colab-badge.svg\" alt=\"Open In Colab\"/></a>"
      ]
    },
    {
      "cell_type": "code",
      "execution_count": 8,
      "metadata": {
        "colab": {
          "base_uri": "https://localhost:8080/"
        },
        "id": "lLkFagBe-a2H",
        "outputId": "73992b8b-555c-4de4-df91-c082160a1be7"
      },
      "outputs": [
        {
          "output_type": "stream",
          "name": "stdout",
          "text": [
            "Score: 89\n",
            "Grade: B\n"
          ]
        }
      ],
      "source": [
        "score = int(input(\"Score: \"))\n",
        "\n",
        "if 90 <=score <= 100:\n",
        "    print(\"Grade: A\")\n",
        "\n",
        "elif 80 <= score < 90:\n",
        "    print(\"Grade: B\")\n",
        "\n",
        "elif 70 <= score < 80:\n",
        "    print(\"Grade: C\")\n",
        "\n",
        "elif 60 <= score < 70:\n",
        "    print(\"Grade: D\")\n",
        "\n",
        "else:\n",
        "    print(\"Grade: F\")"
      ]
    },
    {
      "cell_type": "code",
      "source": [
        "score = int(input(\"Score: \"))\n",
        "\n",
        "if score >=90:\n",
        "    print(\"Grade: A\")\n",
        "\n",
        "elif score >=80 :\n",
        "    print(\"Grade: B\")\n",
        "\n",
        "elif score >=70:\n",
        "    print(\"Grade: C\")\n",
        "\n",
        "elif score >=60:\n",
        "    print(\"Grade: D\")\n",
        "\n",
        "else:\n",
        "    print(\"Grade: F\")"
      ],
      "metadata": {
        "id": "FQuSqDTPBaID"
      },
      "execution_count": null,
      "outputs": []
    }
  ]
}