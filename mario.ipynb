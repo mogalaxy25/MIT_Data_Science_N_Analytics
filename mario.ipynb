{
  "nbformat": 4,
  "nbformat_minor": 0,
  "metadata": {
    "colab": {
      "provenance": [],
      "authorship_tag": "ABX9TyM9p9BJer6gfuKgTfkLJJCy",
      "include_colab_link": true
    },
    "kernelspec": {
      "name": "python3",
      "display_name": "Python 3"
    },
    "language_info": {
      "name": "python"
    }
  },
  "cells": [
    {
      "cell_type": "markdown",
      "metadata": {
        "id": "view-in-github",
        "colab_type": "text"
      },
      "source": [
        "<a href=\"https://colab.research.google.com/github/mogalaxy25/mogalaxy25/blob/main/mario.ipynb\" target=\"_parent\"><img src=\"https://colab.research.google.com/assets/colab-badge.svg\" alt=\"Open In Colab\"/></a>"
      ]
    },
    {
      "cell_type": "code",
      "execution_count": 4,
      "metadata": {
        "colab": {
          "base_uri": "https://localhost:8080/"
        },
        "id": "WzMYxsg4EwWx",
        "outputId": "e58bc3a5-8c12-4630-c550-fe797a9568d0"
      },
      "outputs": [
        {
          "output_type": "stream",
          "name": "stdout",
          "text": [
            "#\n",
            "#\n",
            "#\n"
          ]
        }
      ],
      "source": [
        "def main():\n",
        "    print_column(3)\n",
        "\n",
        "def print_column(height):\n",
        "  for _ in range(height):\n",
        "    print(\"#\")\n",
        "main()"
      ]
    },
    {
      "cell_type": "code",
      "source": [
        "def main():\n",
        "    print_square(4)\n",
        "\n",
        "def print_square(size):\n",
        "  # for each row in sqare\n",
        "  for i in range(size):\n",
        "   # for each brick in row\n",
        "    for j in range(size):\n",
        "     # print brick\n",
        "        print(\"#\", end=\"\")\n",
        "    # print out one new line\n",
        "    print()\n",
        "main()"
      ],
      "metadata": {
        "colab": {
          "base_uri": "https://localhost:8080/"
        },
        "id": "ubRa-DBqF3zR",
        "outputId": "875b94e4-9577-4bc0-f9bd-b6522322da4b"
      },
      "execution_count": 8,
      "outputs": [
        {
          "output_type": "stream",
          "name": "stdout",
          "text": [
            "####\n",
            "####\n",
            "####\n",
            "####\n"
          ]
        }
      ]
    },
    {
      "cell_type": "code",
      "source": [
        "def main():\n",
        "    print_square(4)\n",
        "\n",
        "def print_square(size):\n",
        "  for i in range(size):\n",
        "      print_row(size)\n",
        "def print_row(width):\n",
        "    print(\"#\" * width)\n",
        "\n",
        "main()"
      ],
      "metadata": {
        "colab": {
          "base_uri": "https://localhost:8080/"
        },
        "id": "5bWVUGbuIzIr",
        "outputId": "caa87c33-372d-4c4b-d30b-65fa30ddd138"
      },
      "execution_count": 11,
      "outputs": [
        {
          "output_type": "stream",
          "name": "stdout",
          "text": [
            "####\n",
            "####\n",
            "####\n",
            "####\n"
          ]
        }
      ]
    }
  ]
}