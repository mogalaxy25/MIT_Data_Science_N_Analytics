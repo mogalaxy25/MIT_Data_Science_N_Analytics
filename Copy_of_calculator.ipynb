{
  "nbformat": 4,
  "nbformat_minor": 0,
  "metadata": {
    "colab": {
      "provenance": [],
      "authorship_tag": "ABX9TyP8hp5Dtb7gMH9tg/zp1E9Z",
      "include_colab_link": true
    },
    "kernelspec": {
      "name": "python3",
      "display_name": "Python 3"
    },
    "language_info": {
      "name": "python"
    }
  },
  "cells": [
    {
      "cell_type": "markdown",
      "metadata": {
        "id": "view-in-github",
        "colab_type": "text"
      },
      "source": [
        "<a href=\"https://colab.research.google.com/github/mogalaxy25/mogalaxy25/blob/main/Copy_of_calculator.ipynb\" target=\"_parent\"><img src=\"https://colab.research.google.com/assets/colab-badge.svg\" alt=\"Open In Colab\"/></a>"
      ]
    },
    {
      "cell_type": "code",
      "execution_count": null,
      "metadata": {
        "colab": {
          "base_uri": "https://localhost:8080/"
        },
        "id": "RWnCwc44ryM6",
        "outputId": "a11d837a-254f-4911-9cc8-101a40206c45"
      },
      "outputs": [
        {
          "output_type": "stream",
          "name": "stdout",
          "text": [
            "What's x? 999\n",
            "What's y? 1\n",
            "1,000\n"
          ]
        }
      ],
      "source": [
        "x = float(input (\"What's x? \"))\n",
        "y = float(input (\"What's y? \"))\n",
        "z = round(x + y)\n",
        "print(f\"{z:,}\")"
      ]
    },
    {
      "cell_type": "code",
      "source": [
        "x = float(input (\"What's x? \"))\n",
        "y = float(input (\"What's y? \"))\n",
        "z = x / y\n",
        "print(f\"{z:.3f}\")"
      ],
      "metadata": {
        "id": "kvEv8raBwhc1",
        "outputId": "d60e5c99-9bc6-4e37-8c58-142331154348",
        "colab": {
          "base_uri": "https://localhost:8080/"
        }
      },
      "execution_count": null,
      "outputs": [
        {
          "output_type": "stream",
          "name": "stdout",
          "text": [
            "What's x? 2\n",
            "What's y? 3\n",
            "0.667\n"
          ]
        }
      ]
    },
    {
      "cell_type": "code",
      "source": [
        "def main():\n",
        "     x = int(input(\" What;s x? \"))\n",
        "     print(\"x squared is\", square(x))\n",
        "\n",
        "\n",
        "def square(n) :\n",
        "    return n * n\n",
        "\n",
        "main()"
      ],
      "metadata": {
        "id": "HEkY8VSD17bI",
        "outputId": "8154974a-f178-43fa-a20a-dc8c878800f9",
        "colab": {
          "base_uri": "https://localhost:8080/"
        }
      },
      "execution_count": null,
      "outputs": [
        {
          "output_type": "stream",
          "name": "stdout",
          "text": [
            " What;s x? 5\n",
            "x squared is 25\n"
          ]
        }
      ]
    },
    {
      "cell_type": "code",
      "source": [
        "def main():\n",
        "     x = int(input(\" What;s x? \"))\n",
        "     print(\"x squared is\", square(x))\n",
        "\n",
        "\n",
        "def square(n) :\n",
        "    return pow(n, 2)\n",
        "\n",
        "main()"
      ],
      "metadata": {
        "id": "NUPLqaX-3kt7",
        "outputId": "5196e7ab-2689-4aa2-95b9-64b677ac0237",
        "colab": {
          "base_uri": "https://localhost:8080/"
        }
      },
      "execution_count": null,
      "outputs": [
        {
          "output_type": "stream",
          "name": "stdout",
          "text": [
            " What;s x? 10\n",
            "x squared is 100\n"
          ]
        }
      ]
    },
    {
      "cell_type": "markdown",
      "source": [
        "# Functions  create a function here to say hello\n"
      ],
      "metadata": {
        "id": "6i8vP5rMxXeG"
      }
    },
    {
      "cell_type": "code",
      "source": [
        "def main():\n",
        "    name = input(\"What's your name? \")\n",
        "    hello(name)\n",
        "\n",
        "def hello(to=\"world\"):\n",
        "    print(\"hello,\", to)\n",
        "\n",
        "\n",
        "main()"
      ],
      "metadata": {
        "id": "dP481SqCxl6K",
        "outputId": "fe9efeb2-6431-4b8e-9e24-55473c5eb60b",
        "colab": {
          "base_uri": "https://localhost:8080/"
        }
      },
      "execution_count": null,
      "outputs": [
        {
          "output_type": "stream",
          "name": "stdout",
          "text": [
            "What's your name? mohamed sheriff\n",
            "hello, mohamed sheriff\n"
          ]
        }
      ]
    }
  ]
}