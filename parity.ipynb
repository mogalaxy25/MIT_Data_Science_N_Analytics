{
  "nbformat": 4,
  "nbformat_minor": 0,
  "metadata": {
    "colab": {
      "provenance": [],
      "authorship_tag": "ABX9TyPWYfX8tumIS7EXau8gZHYq",
      "include_colab_link": true
    },
    "kernelspec": {
      "name": "python3",
      "display_name": "Python 3"
    },
    "language_info": {
      "name": "python"
    }
  },
  "cells": [
    {
      "cell_type": "markdown",
      "metadata": {
        "id": "view-in-github",
        "colab_type": "text"
      },
      "source": [
        "<a href=\"https://colab.research.google.com/github/mogalaxy25/mogalaxy25/blob/main/parity.ipynb\" target=\"_parent\"><img src=\"https://colab.research.google.com/assets/colab-badge.svg\" alt=\"Open In Colab\"/></a>"
      ]
    },
    {
      "cell_type": "code",
      "execution_count": 3,
      "metadata": {
        "colab": {
          "base_uri": "https://localhost:8080/"
        },
        "id": "kVkt8vErCj8g",
        "outputId": "0ebf5b49-3269-4165-e78f-9324561e65ab"
      },
      "outputs": [
        {
          "output_type": "stream",
          "name": "stdout",
          "text": [
            "What's X? 45\n",
            "odd\n"
          ]
        }
      ],
      "source": [
        "def main():\n",
        "    x = int(input(\"What's X? \"))\n",
        "    if is_even(x):\n",
        "      print(\"Even\")\n",
        "    else:\n",
        "      print(\"odd\")\n",
        "\n",
        "def is_even(n):\n",
        "    if n % 2 == 0:\n",
        "     return True\n",
        "    else:\n",
        "       return False\n",
        "\n",
        "main()\n"
      ]
    },
    {
      "cell_type": "code",
      "source": [
        "def main():\n",
        "    x = int(input(\"What's X? \"))\n",
        "    if is_even(x):\n",
        "      print(\"Even\")\n",
        "    else:\n",
        "      print(\"odd\")\n",
        "\n",
        "def is_even(n):\n",
        "    return True if n % 2 == 0 else False\n",
        "\n",
        "\n",
        "main()"
      ],
      "metadata": {
        "colab": {
          "base_uri": "https://localhost:8080/"
        },
        "id": "8piWHmqsGsCC",
        "outputId": "1ecbe1d8-e5fd-41be-cc72-ccd074757133"
      },
      "execution_count": 7,
      "outputs": [
        {
          "output_type": "stream",
          "name": "stdout",
          "text": [
            "What's X? 44\n",
            "Even\n"
          ]
        }
      ]
    },
    {
      "cell_type": "code",
      "source": [
        "def main():\n",
        "    x = int(input(\"What's X? \"))\n",
        "    if is_even(x):\n",
        "      print(\"Even\")\n",
        "    else:\n",
        "      print(\"odd\")\n",
        "\n",
        "def is_even(n):\n",
        "    return n % 2 == 0\n",
        "\n",
        "\n",
        "main()"
      ],
      "metadata": {
        "colab": {
          "base_uri": "https://localhost:8080/"
        },
        "id": "JvL-Prf8Hdgd",
        "outputId": "dee5ba5f-c714-422e-bcc2-52e2fad367a2"
      },
      "execution_count": 9,
      "outputs": [
        {
          "output_type": "stream",
          "name": "stdout",
          "text": [
            "What's X? 44\n",
            "Even\n"
          ]
        }
      ]
    }
  ]
}