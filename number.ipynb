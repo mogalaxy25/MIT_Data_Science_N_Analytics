{
  "nbformat": 4,
  "nbformat_minor": 0,
  "metadata": {
    "colab": {
      "provenance": [],
      "authorship_tag": "ABX9TyPep8fnqa6+CRL8YLFm+2g3",
      "include_colab_link": true
    },
    "kernelspec": {
      "name": "python3",
      "display_name": "Python 3"
    },
    "language_info": {
      "name": "python"
    }
  },
  "cells": [
    {
      "cell_type": "markdown",
      "metadata": {
        "id": "view-in-github",
        "colab_type": "text"
      },
      "source": [
        "<a href=\"https://colab.research.google.com/github/mogalaxy25/mogalaxy25/blob/main/number.ipynb\" target=\"_parent\"><img src=\"https://colab.research.google.com/assets/colab-badge.svg\" alt=\"Open In Colab\"/></a>"
      ]
    },
    {
      "cell_type": "code",
      "execution_count": null,
      "metadata": {
        "colab": {
          "base_uri": "https://localhost:8080/"
        },
        "id": "xWCo8VV8a-nW",
        "outputId": "75dffb0f-b1cf-4940-f6aa-f692d0faa55a"
      },
      "outputs": [
        {
          "output_type": "stream",
          "name": "stdout",
          "text": [
            "What's x? MOE\n",
            "x is not an integer\n"
          ]
        }
      ],
      "source": [
        "try:\n",
        "        x = int(input(\"What's x? \"))\n",
        "        print(f\"x is {x}\")\n",
        "except ValueError:\n",
        "       print(\"x is not an integer\")"
      ]
    },
    {
      "cell_type": "code",
      "source": [
        "try:\n",
        "        x = int(input(\"What's x? \"))\n",
        "except ValueError:\n",
        "       print(\"x is not an integer\")\n",
        "       print(f\"x is {x}\")"
      ],
      "metadata": {
        "id": "TpVudUVWewR1"
      },
      "execution_count": null,
      "outputs": []
    },
    {
      "cell_type": "code",
      "source": [
        "try:\n",
        "        x = int(input(\"What's x? \"))\n",
        "except ValueError:\n",
        "       print(\"x is not an integer\")\n",
        "else:\n",
        "       print(f\"x is {x}\")"
      ],
      "metadata": {
        "colab": {
          "base_uri": "https://localhost:8080/"
        },
        "id": "VAyIR6rOf2cP",
        "outputId": "eccbf94c-3bad-4ae7-da26-f40df6ca6193"
      },
      "execution_count": null,
      "outputs": [
        {
          "output_type": "stream",
          "name": "stdout",
          "text": [
            "What's x? moe\n",
            "x is not an integer\n"
          ]
        }
      ]
    },
    {
      "cell_type": "code",
      "source": [
        "\n",
        "while True:\n",
        "    try:\n",
        "        x = int(input(\"What's x? \"))\n",
        "    except ValueError:\n",
        "       print(\"x is not an integer\")\n",
        "    else:\n",
        "        break\n",
        "print(f\"x is {x}\")"
      ],
      "metadata": {
        "id": "nx4dJxuGg5jc"
      },
      "execution_count": null,
      "outputs": []
    },
    {
      "cell_type": "code",
      "source": [
        "\n",
        "while True:\n",
        "    try:\n",
        "        x = int(input(\"What's x? \"))\n",
        "        break\n",
        "    except ValueError:\n",
        "       print(\"x is not an integer\")\n",
        "\n",
        "print(f\"x is {x}\")"
      ],
      "metadata": {
        "colab": {
          "base_uri": "https://localhost:8080/"
        },
        "id": "Rw0yV9gADp9K",
        "outputId": "4c6b3a0a-57e0-4819-c82c-c32df347e06a"
      },
      "execution_count": 6,
      "outputs": [
        {
          "output_type": "stream",
          "name": "stdout",
          "text": [
            "What's x? 50\n",
            "x is 50\n"
          ]
        }
      ]
    },
    {
      "cell_type": "code",
      "source": [
        "def main():\n",
        "    x = get_int()\n",
        "    print(f\"x is {x}\")\n",
        "\n",
        "def get_int():\n",
        "  while True:\n",
        "    try:\n",
        "        x = int(input(\"What's x? \"))\n",
        "    except ValueError:\n",
        "       print(\"x is not an integer\")\n",
        "    else:\n",
        "        break\n",
        "  return x\n",
        "\n",
        "main()"
      ],
      "metadata": {
        "colab": {
          "base_uri": "https://localhost:8080/"
        },
        "id": "LqrOf88IEO4n",
        "outputId": "37249f89-217c-472f-dcc3-90155abab2d2"
      },
      "execution_count": 5,
      "outputs": [
        {
          "output_type": "stream",
          "name": "stdout",
          "text": [
            "What's x? cat\n",
            "x is not an integer\n",
            "What's x? mm\n",
            "x is not an integer\n",
            "What's x? 1m\n",
            "x is not an integer\n",
            "What's x? 12\n",
            "x is 12\n"
          ]
        }
      ]
    },
    {
      "cell_type": "code",
      "source": [
        "def main():\n",
        "    x = get_int()\n",
        "    print(f\"x is {x}\")\n",
        "\n",
        "def get_int():\n",
        "  while True:\n",
        "    try:\n",
        "        x = int(input(\"What's x? \"))\n",
        "    except ValueError:\n",
        "       print(\"x is not an integer\")\n",
        "    else:\n",
        "        return x\n",
        "\n",
        "main()"
      ],
      "metadata": {
        "id": "wpIBosMJGLqq"
      },
      "execution_count": null,
      "outputs": []
    },
    {
      "cell_type": "code",
      "source": [
        "def get_int():\n",
        "  while True:\n",
        "    try:\n",
        "        return int(input(\"What's x? \"))\n",
        "    except ValueError:\n",
        "       print(\"x is not an integer\")\n",
        "main()"
      ],
      "metadata": {
        "colab": {
          "base_uri": "https://localhost:8080/"
        },
        "id": "H6LmjuBkGg2y",
        "outputId": "812650ce-e3de-4574-f85f-f28ee2e2c751"
      },
      "execution_count": 8,
      "outputs": [
        {
          "output_type": "stream",
          "name": "stdout",
          "text": [
            "What's x? cat\n",
            "x is not an integer\n",
            "What's x? 15\n",
            "x is 15\n"
          ]
        }
      ]
    },
    {
      "cell_type": "code",
      "source": [
        "def main():\n",
        "    x = get_int()\n",
        "    print(f\"x is {x}\")\n",
        "\n",
        "def get_int():\n",
        "  while True:\n",
        "    try:\n",
        "        return int(input(\"What's x? \"))\n",
        "    except ValueError:\n",
        "       pass\n",
        "main()"
      ],
      "metadata": {
        "colab": {
          "base_uri": "https://localhost:8080/"
        },
        "id": "yCsMkKpiG7DH",
        "outputId": "38f4f6f7-1233-46ee-8235-f94419699ec3"
      },
      "execution_count": 10,
      "outputs": [
        {
          "output_type": "stream",
          "name": "stdout",
          "text": [
            "What's x? 15\n",
            "x is 15\n"
          ]
        }
      ]
    },
    {
      "cell_type": "code",
      "source": [
        "def main():\n",
        "    x = get_int(\"What's x? \")\n",
        "    print(f\"x is {x}\")\n",
        "\n",
        "def get_int(prompt):\n",
        "  while True:\n",
        "    try:\n",
        "        return int(input(prompt))\n",
        "    except ValueError:\n",
        "       pass\n",
        "main()"
      ],
      "metadata": {
        "colab": {
          "base_uri": "https://localhost:8080/"
        },
        "id": "v0LfthW-IMyW",
        "outputId": "020aca09-c24b-40fa-9336-0cb6d5993d5c"
      },
      "execution_count": 12,
      "outputs": [
        {
          "output_type": "stream",
          "name": "stdout",
          "text": [
            "What's x? cat\n",
            "What's x? 25\n",
            "x is 25\n"
          ]
        }
      ]
    }
  ]
}