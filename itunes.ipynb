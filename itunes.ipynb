{
  "nbformat": 4,
  "nbformat_minor": 0,
  "metadata": {
    "colab": {
      "provenance": [],
      "authorship_tag": "ABX9TyOHfe+JPzrgwYjk2SKeyB4I",
      "include_colab_link": true
    },
    "kernelspec": {
      "name": "python3",
      "display_name": "Python 3"
    },
    "language_info": {
      "name": "python"
    }
  },
  "cells": [
    {
      "cell_type": "markdown",
      "metadata": {
        "id": "view-in-github",
        "colab_type": "text"
      },
      "source": [
        "<a href=\"https://colab.research.google.com/github/mogalaxy25/mogalaxy25/blob/main/itunes.ipynb\" target=\"_parent\"><img src=\"https://colab.research.google.com/assets/colab-badge.svg\" alt=\"Open In Colab\"/></a>"
      ]
    },
    {
      "cell_type": "code",
      "execution_count": null,
      "metadata": {
        "id": "b5tgdu7qnHTx"
      },
      "outputs": [],
      "source": [
        "import requests\n",
        "import json\n",
        "\n",
        "import sys\n",
        "\n",
        "if len(sys.argv) != 2:\n",
        "    sys.exit()\n",
        "response = requests.get(\"https://itunes.apple.com/search?entity=song&limit=50&term=\" + sys.argv[1])\n",
        "\n",
        "o = response.json()\n",
        "for result in o[\"results\"]:\n",
        "\n",
        "    print(result[\"trackName\"])"
      ]
    }
  ]
}