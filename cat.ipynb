{
  "nbformat": 4,
  "nbformat_minor": 0,
  "metadata": {
    "colab": {
      "provenance": [],
      "authorship_tag": "ABX9TyPyMmmC3DHd9U5aFLpd5dPG",
      "include_colab_link": true
    },
    "kernelspec": {
      "name": "python3",
      "display_name": "Python 3"
    },
    "language_info": {
      "name": "python"
    }
  },
  "cells": [
    {
      "cell_type": "markdown",
      "metadata": {
        "id": "view-in-github",
        "colab_type": "text"
      },
      "source": [
        "<a href=\"https://colab.research.google.com/github/mogalaxy25/mogalaxy25/blob/main/cat.ipynb\" target=\"_parent\"><img src=\"https://colab.research.google.com/assets/colab-badge.svg\" alt=\"Open In Colab\"/></a>"
      ]
    },
    {
      "cell_type": "code",
      "execution_count": 1,
      "metadata": {
        "colab": {
          "base_uri": "https://localhost:8080/"
        },
        "id": "8EZQJhvDXofN",
        "outputId": "0b8faf08-317e-4081-9c44-dc8484f78dd6"
      },
      "outputs": [
        {
          "output_type": "stream",
          "name": "stdout",
          "text": [
            "meow\n",
            "meow\n",
            "meow\n"
          ]
        }
      ],
      "source": [
        "print(\"meow\")\n",
        "print(\"meow\")\n",
        "print(\"meow\")"
      ]
    },
    {
      "cell_type": "code",
      "source": [
        "i = 3\n",
        "while i != 0:\n",
        "  print(\"meow\")\n",
        "  i -= 1"
      ],
      "metadata": {
        "colab": {
          "base_uri": "https://localhost:8080/"
        },
        "id": "vKZkFARpX0FC",
        "outputId": "9fc28a07-ccd9-42db-f8c9-1e63a5c14da5"
      },
      "execution_count": 7,
      "outputs": [
        {
          "output_type": "stream",
          "name": "stdout",
          "text": [
            "meow\n",
            "meow\n",
            "meow\n"
          ]
        }
      ]
    },
    {
      "cell_type": "code",
      "source": [
        "i = 0\n",
        "while i < 3:\n",
        "  print(\"meow\")\n",
        "  i += 1"
      ],
      "metadata": {
        "colab": {
          "base_uri": "https://localhost:8080/"
        },
        "id": "xY6L1S2tbKrm",
        "outputId": "05bb603a-5231-49d8-df0e-68ce7baa500a"
      },
      "execution_count": 12,
      "outputs": [
        {
          "output_type": "stream",
          "name": "stdout",
          "text": [
            "meow\n",
            "meow\n",
            "meow\n"
          ]
        }
      ]
    },
    {
      "cell_type": "markdown",
      "source": [
        "## For Loop"
      ],
      "metadata": {
        "id": "OVPsjtFtedkB"
      }
    },
    {
      "cell_type": "code",
      "source": [
        "for i in  [0, 1, 2]:\n",
        "    print(\"meow\")"
      ],
      "metadata": {
        "colab": {
          "base_uri": "https://localhost:8080/"
        },
        "id": "Js_U2YGYd3Y8",
        "outputId": "8f644aa5-d9a5-4eb7-e59a-8766fe55829d"
      },
      "execution_count": 13,
      "outputs": [
        {
          "output_type": "stream",
          "name": "stdout",
          "text": [
            "meow\n",
            "meow\n",
            "meow\n"
          ]
        }
      ]
    },
    {
      "cell_type": "code",
      "source": [
        "while True:\n",
        "     n = int(input(\"What's n?\"))\n",
        "     if n > 0:\n",
        "        break\n",
        "\n",
        "for i in  range(n):\n",
        "    print(\"meow\")"
      ],
      "metadata": {
        "colab": {
          "base_uri": "https://localhost:8080/"
        },
        "id": "5Hyo90Aae8R6",
        "outputId": "d331ccac-fb38-4aa2-cdb8-89a627052d63"
      },
      "execution_count": 22,
      "outputs": [
        {
          "output_type": "stream",
          "name": "stdout",
          "text": [
            "What's n?4\n",
            "meow\n",
            "meow\n",
            "meow\n",
            "meow\n"
          ]
        }
      ]
    },
    {
      "cell_type": "code",
      "source": [
        "for _ in  range(n):\n",
        "    print(\"meow\")"
      ],
      "metadata": {
        "id": "D2rRDIo2fVs2"
      },
      "execution_count": null,
      "outputs": []
    },
    {
      "cell_type": "code",
      "source": [
        "print(\"meow\\n\" * 3, end=\"\")"
      ],
      "metadata": {
        "id": "lpHuD1oUfcl3"
      },
      "execution_count": null,
      "outputs": []
    },
    {
      "cell_type": "markdown",
      "source": [
        "# List"
      ],
      "metadata": {
        "id": "03-xAPUJeBVt"
      }
    },
    {
      "cell_type": "code",
      "source": [
        "def main():\n",
        "     n = int(input(\"What's n? \"))\n",
        "     if n < 0:\n",
        "\n",
        "def meow(n):\n",
        "  for _ in  range(n):\n",
        "    print(\"meow\")\n",
        "\n",
        "main()"
      ],
      "metadata": {
        "colab": {
          "base_uri": "https://localhost:8080/"
        },
        "id": "usoa8qHiheto",
        "outputId": "5137e059-23fc-4be9-b5a4-06fc1f9b8606"
      },
      "execution_count": 28,
      "outputs": [
        {
          "output_type": "stream",
          "name": "stdout",
          "text": [
            "What's n? 4\n",
            "meow\n",
            "meow\n",
            "meow\n",
            "meow\n"
          ]
        }
      ]
    },
    {
      "cell_type": "code",
      "source": [
        "def main():\n",
        "     n = get_number()\n",
        "     meow(n)\n",
        "\n",
        "\n",
        "def get_number():\n",
        "  while True:\n",
        "    n = int(input(\"What's n? \"))\n",
        "    if n > 0:\n",
        "        break\n",
        "  return n\n",
        "\n",
        "\n",
        "def meow(n):\n",
        "  for _ in  range(n):\n",
        "    print(\"meow\")\n",
        "\n",
        "main()"
      ],
      "metadata": {
        "colab": {
          "base_uri": "https://localhost:8080/"
        },
        "id": "cJEA0SbjjLjD",
        "outputId": "a638f502-f7bc-4f38-8c0c-c00aa4a259c1"
      },
      "execution_count": 32,
      "outputs": [
        {
          "output_type": "stream",
          "name": "stdout",
          "text": [
            "What's n? 5\n",
            "meow\n",
            "meow\n",
            "meow\n",
            "meow\n",
            "meow\n"
          ]
        }
      ]
    },
    {
      "cell_type": "code",
      "source": [
        "list"
      ],
      "metadata": {
        "id": "vVW2L7Yud9OZ"
      },
      "execution_count": null,
      "outputs": []
    }
  ]
}