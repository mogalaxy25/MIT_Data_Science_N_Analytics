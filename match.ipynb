{
  "nbformat": 4,
  "nbformat_minor": 0,
  "metadata": {
    "colab": {
      "provenance": [],
      "authorship_tag": "ABX9TyM3Nvp9LlzYT/0os1thfL+Z",
      "include_colab_link": true
    },
    "kernelspec": {
      "name": "python3",
      "display_name": "Python 3"
    },
    "language_info": {
      "name": "python"
    }
  },
  "cells": [
    {
      "cell_type": "markdown",
      "metadata": {
        "id": "view-in-github",
        "colab_type": "text"
      },
      "source": [
        "<a href=\"https://colab.research.google.com/github/mogalaxy25/mogalaxy25/blob/main/match.ipynb\" target=\"_parent\"><img src=\"https://colab.research.google.com/assets/colab-badge.svg\" alt=\"Open In Colab\"/></a>"
      ]
    },
    {
      "cell_type": "code",
      "execution_count": 4,
      "metadata": {
        "colab": {
          "base_uri": "https://localhost:8080/"
        },
        "id": "vIZzh7iJH0Rg",
        "outputId": "db01060e-77c7-4619-8ece-7a0149f99fa0"
      },
      "outputs": [
        {
          "output_type": "stream",
          "name": "stdout",
          "text": [
            "What's your name? harry\n",
            "who?\n"
          ]
        }
      ],
      "source": [
        "name = input(\"What's your name? \")\n",
        "\n",
        "if name == \"Harry\" or name == \"Hermione\" or name == \"Ron\":\n",
        "    print(\"Gryffindor\")\n",
        "\n",
        "elif name == \"Draco\":\n",
        "    print(\"slytherin\")\n",
        "\n",
        "else:\n",
        "    print(\"who?\")"
      ]
    },
    {
      "cell_type": "code",
      "source": [
        "name = input(\"What's your name? \")\n",
        "\n",
        "match name:\n",
        "    case \"Harry\" | \"Hermione\" | \"Ron\":\n",
        "        print(\"Gryffindor\")\n",
        "\n",
        "    case \"Draco\":\n",
        "        print(\"slytherin\")\n",
        "\n",
        "    case _:\n",
        "        print(\"who?\")"
      ],
      "metadata": {
        "colab": {
          "base_uri": "https://localhost:8080/"
        },
        "id": "d0y_RiAyJfQb",
        "outputId": "697c03ff-e3ff-4cb2-a759-c633e3e8bc9a"
      },
      "execution_count": 11,
      "outputs": [
        {
          "output_type": "stream",
          "name": "stdout",
          "text": [
            "What's your name? Ron\n",
            "Gryffindor\n"
          ]
        }
      ]
    },
    {
      "cell_type": "code",
      "source": [],
      "metadata": {
        "id": "VBxbTB2QLWmL"
      },
      "execution_count": null,
      "outputs": []
    }
  ]
}