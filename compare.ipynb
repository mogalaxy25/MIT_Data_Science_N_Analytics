{
  "nbformat": 4,
  "nbformat_minor": 0,
  "metadata": {
    "colab": {
      "provenance": [],
      "authorship_tag": "ABX9TyMZQlGSGf1m2ugTcEQbomT2",
      "include_colab_link": true
    },
    "kernelspec": {
      "name": "python3",
      "display_name": "Python 3"
    },
    "language_info": {
      "name": "python"
    }
  },
  "cells": [
    {
      "cell_type": "markdown",
      "metadata": {
        "id": "view-in-github",
        "colab_type": "text"
      },
      "source": [
        "<a href=\"https://colab.research.google.com/github/mogalaxy25/mogalaxy25/blob/main/compare.ipynb\" target=\"_parent\"><img src=\"https://colab.research.google.com/assets/colab-badge.svg\" alt=\"Open In Colab\"/></a>"
      ]
    },
    {
      "cell_type": "code",
      "execution_count": 4,
      "metadata": {
        "colab": {
          "base_uri": "https://localhost:8080/"
        },
        "id": "ikTRt-fM40Ye",
        "outputId": "64b5c8ce-9f7e-401c-875e-008199e9225e"
      },
      "outputs": [
        {
          "output_type": "stream",
          "name": "stdout",
          "text": [
            "What's X? 4\n",
            "What's y? 4\n",
            "x is equal to y\n"
          ]
        }
      ],
      "source": [
        "x = int(input(\"What's X? \"))\n",
        "\n",
        "y = int(input(\"What's y? \"))\n",
        "\n",
        "if x < y:\n",
        "      print(\"x is less than y\")\n",
        "elif x > y:\n",
        "      print(\"x is greater than y\")\n",
        "else:\n",
        "      print(\"x is equal to y\")"
      ]
    },
    {
      "cell_type": "code",
      "source": [
        "x = int(input(\"What's X? \"))\n",
        "\n",
        "y = int(input(\"What's y? \"))\n",
        "\n",
        "if x < y or x > y:\n",
        "      print(\"x is not equal to y\")\n",
        "else:\n",
        "      print(\"x is equal to y\")"
      ],
      "metadata": {
        "id": "SEgZV-758s57"
      },
      "execution_count": null,
      "outputs": []
    },
    {
      "cell_type": "code",
      "source": [
        "x = int(input(\"What's X? \"))\n",
        "\n",
        "y = int(input(\"What's y? \"))\n",
        "\n",
        "if x != y :\n",
        "      print(\"x is not equal to y\")\n",
        "else:\n",
        "      print(\"x is equal to y\")"
      ],
      "metadata": {
        "colab": {
          "base_uri": "https://localhost:8080/"
        },
        "id": "ftzSmlRc9is3",
        "outputId": "84fc04b7-e6cb-457b-d558-dad6838d84d5"
      },
      "execution_count": 6,
      "outputs": [
        {
          "output_type": "stream",
          "name": "stdout",
          "text": [
            "What's X? 2\n",
            "What's y? 2\n",
            "x is equal to y\n"
          ]
        }
      ]
    },
    {
      "cell_type": "code",
      "source": [
        "x = int(input(\"What's X? \"))\n",
        "\n",
        "y = int(input(\"What's y? \"))\n",
        "\n",
        "if x == y:\n",
        "      print(\"x is equal to y\")\n",
        "else:\n",
        "      print(\"x is not equal to y\")"
      ],
      "metadata": {
        "colab": {
          "base_uri": "https://localhost:8080/"
        },
        "id": "aUFbgTd593BZ",
        "outputId": "705a99e2-9585-4dca-e049-9f94222fa199"
      },
      "execution_count": 8,
      "outputs": [
        {
          "output_type": "stream",
          "name": "stdout",
          "text": [
            "What's X? 1\n",
            "What's y? 5\n",
            "x is not equal to y\n"
          ]
        }
      ]
    }
  ]
}